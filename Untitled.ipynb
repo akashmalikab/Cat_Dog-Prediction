{
 "cells": [
  {
   "cell_type": "code",
   "execution_count": 1,
   "metadata": {},
   "outputs": [],
   "source": [
    "import tensorflow as tf\n",
    "from keras.preprocessing.image import ImageDataGenerator"
   ]
  },
  {
   "cell_type": "code",
   "execution_count": 2,
   "metadata": {},
   "outputs": [
    {
     "name": "stdout",
     "output_type": "stream",
     "text": [
      "Found 8000 images belonging to 2 classes.\n"
     ]
    }
   ],
   "source": [
    "train_datagen = ImageDataGenerator(\n",
    "        rescale=1./255,\n",
    "        shear_range=0.2,\n",
    "        zoom_range=0.2,\n",
    "        horizontal_flip=True)\n",
    "training_set = train_datagen.flow_from_directory(\n",
    "        'training_set',\n",
    "        target_size=(64, 64),\n",
    "        batch_size=32,\n",
    "        class_mode='binary')\n"
   ]
  },
  {
   "cell_type": "code",
   "execution_count": 3,
   "metadata": {},
   "outputs": [
    {
     "name": "stdout",
     "output_type": "stream",
     "text": [
      "Found 2000 images belonging to 2 classes.\n"
     ]
    }
   ],
   "source": [
    "test_datagen = ImageDataGenerator(rescale=1./255)\n",
    "test_set = test_datagen.flow_from_directory(\n",
    "        'test_set',\n",
    "        target_size=(64, 64),\n",
    "        batch_size=32,\n",
    "        class_mode='binary')"
   ]
  },
  {
   "cell_type": "code",
   "execution_count": 4,
   "metadata": {},
   "outputs": [],
   "source": [
    "cnn = tf.keras.models.Sequential()"
   ]
  },
  {
   "cell_type": "code",
   "execution_count": 5,
   "metadata": {},
   "outputs": [],
   "source": [
    "cnn.add(tf.keras.layers.Conv2D(filters=32,kernel_size=3,activation='relu',input_shape=(64,64,3)))"
   ]
  },
  {
   "cell_type": "code",
   "execution_count": 6,
   "metadata": {},
   "outputs": [],
   "source": [
    "cnn.add(tf.keras.layers.MaxPooling2D(pool_size=2,strides=2))"
   ]
  },
  {
   "cell_type": "code",
   "execution_count": 7,
   "metadata": {},
   "outputs": [],
   "source": [
    "cnn.add(tf.keras.layers.Conv2D(filters=32,kernel_size=3,activation='relu'))\n",
    "cnn.add(tf.keras.layers.MaxPooling2D(pool_size=2,strides=2))"
   ]
  },
  {
   "cell_type": "code",
   "execution_count": 8,
   "metadata": {},
   "outputs": [],
   "source": [
    "cnn.add(tf.keras.layers.Flatten())"
   ]
  },
  {
   "cell_type": "code",
   "execution_count": 9,
   "metadata": {},
   "outputs": [],
   "source": [
    "cnn.add(tf.keras.layers.Dense(units=130,activation='relu'))"
   ]
  },
  {
   "cell_type": "code",
   "execution_count": 10,
   "metadata": {},
   "outputs": [],
   "source": [
    "cnn.add(tf.keras.layers.Dense(units=1,activation='sigmoid'))"
   ]
  },
  {
   "cell_type": "code",
   "execution_count": 11,
   "metadata": {},
   "outputs": [],
   "source": [
    "cnn.compile(optimizer='adam',loss='binary_crossentropy',metrics=['accuracy'])"
   ]
  },
  {
   "cell_type": "code",
   "execution_count": 12,
   "metadata": {},
   "outputs": [
    {
     "name": "stdout",
     "output_type": "stream",
     "text": [
      "Epoch 1/25\n",
      "250/250 [==============================] - 106s 425ms/step - loss: 0.6763 - accuracy: 0.5729 - val_loss: 0.6472 - val_accuracy: 0.6140\n",
      "Epoch 2/25\n",
      "250/250 [==============================] - 25s 101ms/step - loss: 0.6167 - accuracy: 0.6607 - val_loss: 0.5862 - val_accuracy: 0.6925\n",
      "Epoch 3/25\n",
      "250/250 [==============================] - 25s 98ms/step - loss: 0.5772 - accuracy: 0.7038 - val_loss: 0.5327 - val_accuracy: 0.7395\n",
      "Epoch 4/25\n",
      "250/250 [==============================] - 24s 96ms/step - loss: 0.5419 - accuracy: 0.7274 - val_loss: 0.5414 - val_accuracy: 0.7410\n",
      "Epoch 5/25\n",
      "250/250 [==============================] - 25s 98ms/step - loss: 0.5026 - accuracy: 0.7535 - val_loss: 0.5039 - val_accuracy: 0.7520\n",
      "Epoch 6/25\n",
      "250/250 [==============================] - 24s 97ms/step - loss: 0.4871 - accuracy: 0.7625 - val_loss: 0.4794 - val_accuracy: 0.7775\n",
      "Epoch 7/25\n",
      "250/250 [==============================] - 24s 96ms/step - loss: 0.4749 - accuracy: 0.7724 - val_loss: 0.4712 - val_accuracy: 0.7810\n",
      "Epoch 8/25\n",
      "250/250 [==============================] - 24s 95ms/step - loss: 0.4605 - accuracy: 0.7799 - val_loss: 0.4778 - val_accuracy: 0.7760\n",
      "Epoch 9/25\n",
      "250/250 [==============================] - 25s 98ms/step - loss: 0.4500 - accuracy: 0.7884 - val_loss: 0.4641 - val_accuracy: 0.7910\n",
      "Epoch 10/25\n",
      "250/250 [==============================] - 24s 97ms/step - loss: 0.4292 - accuracy: 0.8021 - val_loss: 0.4516 - val_accuracy: 0.7960\n",
      "Epoch 11/25\n",
      "250/250 [==============================] - 25s 99ms/step - loss: 0.4237 - accuracy: 0.8001 - val_loss: 0.4494 - val_accuracy: 0.7995\n",
      "Epoch 12/25\n",
      "250/250 [==============================] - 28s 113ms/step - loss: 0.4088 - accuracy: 0.8087 - val_loss: 0.4454 - val_accuracy: 0.7995\n",
      "Epoch 13/25\n",
      "250/250 [==============================] - 24s 96ms/step - loss: 0.3954 - accuracy: 0.8205 - val_loss: 0.4525 - val_accuracy: 0.7980\n",
      "Epoch 14/25\n",
      "250/250 [==============================] - 25s 100ms/step - loss: 0.3920 - accuracy: 0.8196 - val_loss: 0.4635 - val_accuracy: 0.7970\n",
      "Epoch 15/25\n",
      "250/250 [==============================] - 24s 98ms/step - loss: 0.3836 - accuracy: 0.8205 - val_loss: 0.4641 - val_accuracy: 0.7820\n",
      "Epoch 16/25\n",
      "250/250 [==============================] - 24s 97ms/step - loss: 0.3714 - accuracy: 0.8351 - val_loss: 0.4446 - val_accuracy: 0.7960\n",
      "Epoch 17/25\n",
      "250/250 [==============================] - 25s 98ms/step - loss: 0.3592 - accuracy: 0.8396 - val_loss: 0.5205 - val_accuracy: 0.7690\n",
      "Epoch 18/25\n",
      "250/250 [==============================] - 24s 98ms/step - loss: 0.3481 - accuracy: 0.8444 - val_loss: 0.4505 - val_accuracy: 0.8075\n",
      "Epoch 19/25\n",
      "250/250 [==============================] - 24s 96ms/step - loss: 0.3337 - accuracy: 0.8526 - val_loss: 0.4857 - val_accuracy: 0.7995\n",
      "Epoch 20/25\n",
      "250/250 [==============================] - 24s 97ms/step - loss: 0.3316 - accuracy: 0.8562 - val_loss: 0.4524 - val_accuracy: 0.8145\n",
      "Epoch 21/25\n",
      "250/250 [==============================] - 24s 98ms/step - loss: 0.3224 - accuracy: 0.8560 - val_loss: 0.4702 - val_accuracy: 0.8000\n",
      "Epoch 22/25\n",
      "250/250 [==============================] - 24s 97ms/step - loss: 0.3104 - accuracy: 0.8624 - val_loss: 0.4568 - val_accuracy: 0.8080\n",
      "Epoch 23/25\n",
      "250/250 [==============================] - 25s 98ms/step - loss: 0.2952 - accuracy: 0.8715 - val_loss: 0.4719 - val_accuracy: 0.8115\n",
      "Epoch 24/25\n",
      "250/250 [==============================] - 24s 98ms/step - loss: 0.2985 - accuracy: 0.8702 - val_loss: 0.4747 - val_accuracy: 0.8050\n",
      "Epoch 25/25\n",
      "250/250 [==============================] - 24s 98ms/step - loss: 0.2741 - accuracy: 0.8838 - val_loss: 0.5669 - val_accuracy: 0.7905\n"
     ]
    },
    {
     "data": {
      "text/plain": [
       "<tensorflow.python.keras.callbacks.History at 0x154850b0e88>"
      ]
     },
     "execution_count": 12,
     "metadata": {},
     "output_type": "execute_result"
    }
   ],
   "source": [
    "cnn.fit(x=training_set,validation_data=test_set,epochs=25)"
   ]
  },
  {
   "cell_type": "code",
   "execution_count": 13,
   "metadata": {},
   "outputs": [],
   "source": [
    "# save it as a h5 file\n",
    "from tensorflow.keras.models import load_model\n",
    "\n",
    "cnn.save('cnn.h5')"
   ]
  },
  {
   "cell_type": "code",
   "execution_count": null,
   "metadata": {},
   "outputs": [],
   "source": []
  }
 ],
 "metadata": {
  "kernelspec": {
   "display_name": "Python 3",
   "language": "python",
   "name": "python3"
  },
  "language_info": {
   "codemirror_mode": {
    "name": "ipython",
    "version": 3
   },
   "file_extension": ".py",
   "mimetype": "text/x-python",
   "name": "python",
   "nbconvert_exporter": "python",
   "pygments_lexer": "ipython3",
   "version": "3.7.6"
  }
 },
 "nbformat": 4,
 "nbformat_minor": 2
}
